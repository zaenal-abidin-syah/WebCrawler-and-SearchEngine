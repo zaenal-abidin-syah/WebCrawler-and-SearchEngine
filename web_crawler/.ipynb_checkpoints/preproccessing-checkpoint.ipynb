{
 "cells": [
  {
   "cell_type": "code",
   "execution_count": 4,
   "id": "e8976638-4a0c-469d-8719-541aef5a292e",
   "metadata": {},
   "outputs": [],
   "source": [
    "# import re\n",
    "# import sys\n",
    "# import pickle\n",
    "# import math\n",
    "import csv\n",
    "import pandas as pd\n",
    "import numpy as np\n",
    "import seaborn as sns\n",
    "import nltk\n",
    "from nltk.corpus import stopwords\n",
    "from Sastrawi.Stemmer.StemmerFactory import StemmerFactory"
   ]
  },
  {
   "cell_type": "code",
   "execution_count": 2,
   "id": "1250a491-7e13-439e-ad88-f0db12b65e96",
   "metadata": {},
   "outputs": [],
   "source": [
    "content = []\n",
    "input_data = 'news.csv'\n",
    "with open(input_data, 'r', encoding='latin1') as file:\n",
    "    reader = csv.DictReader(file)\n",
    "    for row in reader:\n",
    "        content.append(row)"
   ]
  },
  {
   "cell_type": "code",
   "execution_count": 3,
   "id": "89ac9ebe-f88b-4a20-a22b-fa8f7f74521e",
   "metadata": {},
   "outputs": [],
   "source": [
    "data = pd.DataFrame(content)"
   ]
  },
  {
   "cell_type": "code",
   "execution_count": 4,
   "id": "962c15c4-120b-4f6e-a65a-d05b29ef1fbc",
   "metadata": {},
   "outputs": [
    {
     "data": {
      "text/html": [
       "<div>\n",
       "<style scoped>\n",
       "    .dataframe tbody tr th:only-of-type {\n",
       "        vertical-align: middle;\n",
       "    }\n",
       "\n",
       "    .dataframe tbody tr th {\n",
       "        vertical-align: top;\n",
       "    }\n",
       "\n",
       "    .dataframe thead th {\n",
       "        text-align: right;\n",
       "    }\n",
       "</style>\n",
       "<table border=\"1\" class=\"dataframe\">\n",
       "  <thead>\n",
       "    <tr style=\"text-align: right;\">\n",
       "      <th></th>\n",
       "      <th>Judul</th>\n",
       "      <th>Waktu</th>\n",
       "      <th>URL</th>\n",
       "      <th>Kelas</th>\n",
       "      <th>Konten</th>\n",
       "    </tr>\n",
       "  </thead>\n",
       "  <tbody>\n",
       "    <tr>\n",
       "      <th>0</th>\n",
       "      <td>BawaBawa Marc Marquez Raul Fernandez Soroti Pe...</td>\n",
       "      <td>Senin 24 Juni 2024 18:10 WIB</td>\n",
       "      <td>https://sports.okezone.com/read/2024/06/24/38/...</td>\n",
       "      <td>olahraga</td>\n",
       "      <td>MADRID â Pembalap Trackhouse Racing Raul Fer...</td>\n",
       "    </tr>\n",
       "    <tr>\n",
       "      <th>1</th>\n",
       "      <td>Sebelum Putuskan Bela KTM Maverick Vinales Nya...</td>\n",
       "      <td>Senin 24 Juni 2024 17:57 WIB</td>\n",
       "      <td>https://sports.okezone.com/read/2024/06/24/38/...</td>\n",
       "      <td>olahraga</td>\n",
       "      <td>PEMBALAP Tim Aprilia Racing Maverick Vinales t...</td>\n",
       "    </tr>\n",
       "    <tr>\n",
       "      <th>2</th>\n",
       "      <td>Tak Mau Putranya Ikut Jadi Petinju Anthony Jos...</td>\n",
       "      <td>Senin 24 Juni 2024 19:30 WIB</td>\n",
       "      <td>https://sports.okezone.com/read/2024/06/24/43/...</td>\n",
       "      <td>olahraga</td>\n",
       "      <td>TAHU betapa kerasnya dunia tinju petinju asal ...</td>\n",
       "    </tr>\n",
       "    <tr>\n",
       "      <th>3</th>\n",
       "      <td>PUBG MOBILE Luncurkan Update Mecha Fusion Maki...</td>\n",
       "      <td>Senin 24 Juni 2024 17:58 WIB</td>\n",
       "      <td>https://sports.okezone.com/read/2024/06/24/43/...</td>\n",
       "      <td>olahraga</td>\n",
       "      <td>SALAH satu game battle royale terpopuler di du...</td>\n",
       "    </tr>\n",
       "    <tr>\n",
       "      <th>4</th>\n",
       "      <td>Kaget Lihat Banyaknya Perizinan untuk Gelar Mo...</td>\n",
       "      <td>Selasa 25 Juni 2024 00:01 WIB</td>\n",
       "      <td>https://sports.okezone.com/read/2024/06/24/38/...</td>\n",
       "      <td>olahraga</td>\n",
       "      <td>JAKARTA Presiden Republik Indonesia RI Joko Wi...</td>\n",
       "    </tr>\n",
       "  </tbody>\n",
       "</table>\n",
       "</div>"
      ],
      "text/plain": [
       "                                               Judul  \\\n",
       "0  BawaBawa Marc Marquez Raul Fernandez Soroti Pe...   \n",
       "1  Sebelum Putuskan Bela KTM Maverick Vinales Nya...   \n",
       "2  Tak Mau Putranya Ikut Jadi Petinju Anthony Jos...   \n",
       "3  PUBG MOBILE Luncurkan Update Mecha Fusion Maki...   \n",
       "4  Kaget Lihat Banyaknya Perizinan untuk Gelar Mo...   \n",
       "\n",
       "                           Waktu  \\\n",
       "0   Senin 24 Juni 2024 18:10 WIB   \n",
       "1   Senin 24 Juni 2024 17:57 WIB   \n",
       "2   Senin 24 Juni 2024 19:30 WIB   \n",
       "3   Senin 24 Juni 2024 17:58 WIB   \n",
       "4  Selasa 25 Juni 2024 00:01 WIB   \n",
       "\n",
       "                                                 URL     Kelas  \\\n",
       "0  https://sports.okezone.com/read/2024/06/24/38/...  olahraga   \n",
       "1  https://sports.okezone.com/read/2024/06/24/38/...  olahraga   \n",
       "2  https://sports.okezone.com/read/2024/06/24/43/...  olahraga   \n",
       "3  https://sports.okezone.com/read/2024/06/24/43/...  olahraga   \n",
       "4  https://sports.okezone.com/read/2024/06/24/38/...  olahraga   \n",
       "\n",
       "                                              Konten  \n",
       "0  MADRID â Pembalap Trackhouse Racing Raul Fer...  \n",
       "1  PEMBALAP Tim Aprilia Racing Maverick Vinales t...  \n",
       "2  TAHU betapa kerasnya dunia tinju petinju asal ...  \n",
       "3  SALAH satu game battle royale terpopuler di du...  \n",
       "4  JAKARTA Presiden Republik Indonesia RI Joko Wi...  "
      ]
     },
     "execution_count": 4,
     "metadata": {},
     "output_type": "execute_result"
    }
   ],
   "source": [
    "data.head(5)"
   ]
  },
  {
   "cell_type": "code",
   "execution_count": 5,
   "id": "20b96144-354d-4d14-a249-c062364af136",
   "metadata": {},
   "outputs": [],
   "source": [
    "data = data.dropna()"
   ]
  },
  {
   "cell_type": "code",
   "execution_count": 6,
   "id": "0550cf0b-aeaa-4534-8bbc-bd1a32209522",
   "metadata": {},
   "outputs": [
    {
     "data": {
      "text/html": [
       "<div>\n",
       "<style scoped>\n",
       "    .dataframe tbody tr th:only-of-type {\n",
       "        vertical-align: middle;\n",
       "    }\n",
       "\n",
       "    .dataframe tbody tr th {\n",
       "        vertical-align: top;\n",
       "    }\n",
       "\n",
       "    .dataframe thead th {\n",
       "        text-align: right;\n",
       "    }\n",
       "</style>\n",
       "<table border=\"1\" class=\"dataframe\">\n",
       "  <thead>\n",
       "    <tr style=\"text-align: right;\">\n",
       "      <th></th>\n",
       "      <th>Judul</th>\n",
       "      <th>Waktu</th>\n",
       "      <th>URL</th>\n",
       "      <th>Kelas</th>\n",
       "      <th>Konten</th>\n",
       "    </tr>\n",
       "  </thead>\n",
       "  <tbody>\n",
       "    <tr>\n",
       "      <th>0</th>\n",
       "      <td>BawaBawa Marc Marquez Raul Fernandez Soroti Pe...</td>\n",
       "      <td>Senin 24 Juni 2024 18:10 WIB</td>\n",
       "      <td>https://sports.okezone.com/read/2024/06/24/38/...</td>\n",
       "      <td>olahraga</td>\n",
       "      <td>MADRID â Pembalap Trackhouse Racing Raul Fer...</td>\n",
       "    </tr>\n",
       "    <tr>\n",
       "      <th>1</th>\n",
       "      <td>Sebelum Putuskan Bela KTM Maverick Vinales Nya...</td>\n",
       "      <td>Senin 24 Juni 2024 17:57 WIB</td>\n",
       "      <td>https://sports.okezone.com/read/2024/06/24/38/...</td>\n",
       "      <td>olahraga</td>\n",
       "      <td>PEMBALAP Tim Aprilia Racing Maverick Vinales t...</td>\n",
       "    </tr>\n",
       "    <tr>\n",
       "      <th>2</th>\n",
       "      <td>Tak Mau Putranya Ikut Jadi Petinju Anthony Jos...</td>\n",
       "      <td>Senin 24 Juni 2024 19:30 WIB</td>\n",
       "      <td>https://sports.okezone.com/read/2024/06/24/43/...</td>\n",
       "      <td>olahraga</td>\n",
       "      <td>TAHU betapa kerasnya dunia tinju petinju asal ...</td>\n",
       "    </tr>\n",
       "    <tr>\n",
       "      <th>3</th>\n",
       "      <td>PUBG MOBILE Luncurkan Update Mecha Fusion Maki...</td>\n",
       "      <td>Senin 24 Juni 2024 17:58 WIB</td>\n",
       "      <td>https://sports.okezone.com/read/2024/06/24/43/...</td>\n",
       "      <td>olahraga</td>\n",
       "      <td>SALAH satu game battle royale terpopuler di du...</td>\n",
       "    </tr>\n",
       "    <tr>\n",
       "      <th>4</th>\n",
       "      <td>Kaget Lihat Banyaknya Perizinan untuk Gelar Mo...</td>\n",
       "      <td>Selasa 25 Juni 2024 00:01 WIB</td>\n",
       "      <td>https://sports.okezone.com/read/2024/06/24/38/...</td>\n",
       "      <td>olahraga</td>\n",
       "      <td>JAKARTA Presiden Republik Indonesia RI Joko Wi...</td>\n",
       "    </tr>\n",
       "  </tbody>\n",
       "</table>\n",
       "</div>"
      ],
      "text/plain": [
       "                                               Judul  \\\n",
       "0  BawaBawa Marc Marquez Raul Fernandez Soroti Pe...   \n",
       "1  Sebelum Putuskan Bela KTM Maverick Vinales Nya...   \n",
       "2  Tak Mau Putranya Ikut Jadi Petinju Anthony Jos...   \n",
       "3  PUBG MOBILE Luncurkan Update Mecha Fusion Maki...   \n",
       "4  Kaget Lihat Banyaknya Perizinan untuk Gelar Mo...   \n",
       "\n",
       "                           Waktu  \\\n",
       "0   Senin 24 Juni 2024 18:10 WIB   \n",
       "1   Senin 24 Juni 2024 17:57 WIB   \n",
       "2   Senin 24 Juni 2024 19:30 WIB   \n",
       "3   Senin 24 Juni 2024 17:58 WIB   \n",
       "4  Selasa 25 Juni 2024 00:01 WIB   \n",
       "\n",
       "                                                 URL     Kelas  \\\n",
       "0  https://sports.okezone.com/read/2024/06/24/38/...  olahraga   \n",
       "1  https://sports.okezone.com/read/2024/06/24/38/...  olahraga   \n",
       "2  https://sports.okezone.com/read/2024/06/24/43/...  olahraga   \n",
       "3  https://sports.okezone.com/read/2024/06/24/43/...  olahraga   \n",
       "4  https://sports.okezone.com/read/2024/06/24/38/...  olahraga   \n",
       "\n",
       "                                              Konten  \n",
       "0  MADRID â Pembalap Trackhouse Racing Raul Fer...  \n",
       "1  PEMBALAP Tim Aprilia Racing Maverick Vinales t...  \n",
       "2  TAHU betapa kerasnya dunia tinju petinju asal ...  \n",
       "3  SALAH satu game battle royale terpopuler di du...  \n",
       "4  JAKARTA Presiden Republik Indonesia RI Joko Wi...  "
      ]
     },
     "execution_count": 6,
     "metadata": {},
     "output_type": "execute_result"
    }
   ],
   "source": [
    "data.head(5)"
   ]
  },
  {
   "cell_type": "code",
   "execution_count": 7,
   "id": "1aed7ca4-d65a-4e9e-8b68-b433232dadde",
   "metadata": {},
   "outputs": [],
   "source": [
    "data['Konten'] = data['Konten'].str.lower()"
   ]
  },
  {
   "cell_type": "code",
   "execution_count": 8,
   "id": "81613e99-e904-4da1-8604-8f32cfa4f5d0",
   "metadata": {},
   "outputs": [
    {
     "data": {
      "text/html": [
       "<div>\n",
       "<style scoped>\n",
       "    .dataframe tbody tr th:only-of-type {\n",
       "        vertical-align: middle;\n",
       "    }\n",
       "\n",
       "    .dataframe tbody tr th {\n",
       "        vertical-align: top;\n",
       "    }\n",
       "\n",
       "    .dataframe thead th {\n",
       "        text-align: right;\n",
       "    }\n",
       "</style>\n",
       "<table border=\"1\" class=\"dataframe\">\n",
       "  <thead>\n",
       "    <tr style=\"text-align: right;\">\n",
       "      <th></th>\n",
       "      <th>Judul</th>\n",
       "      <th>Waktu</th>\n",
       "      <th>URL</th>\n",
       "      <th>Kelas</th>\n",
       "      <th>Konten</th>\n",
       "    </tr>\n",
       "  </thead>\n",
       "  <tbody>\n",
       "    <tr>\n",
       "      <th>0</th>\n",
       "      <td>BawaBawa Marc Marquez Raul Fernandez Soroti Pe...</td>\n",
       "      <td>Senin 24 Juni 2024 18:10 WIB</td>\n",
       "      <td>https://sports.okezone.com/read/2024/06/24/38/...</td>\n",
       "      <td>olahraga</td>\n",
       "      <td>madrid â pembalap trackhouse racing raul fer...</td>\n",
       "    </tr>\n",
       "    <tr>\n",
       "      <th>1</th>\n",
       "      <td>Sebelum Putuskan Bela KTM Maverick Vinales Nya...</td>\n",
       "      <td>Senin 24 Juni 2024 17:57 WIB</td>\n",
       "      <td>https://sports.okezone.com/read/2024/06/24/38/...</td>\n",
       "      <td>olahraga</td>\n",
       "      <td>pembalap tim aprilia racing maverick vinales t...</td>\n",
       "    </tr>\n",
       "    <tr>\n",
       "      <th>2</th>\n",
       "      <td>Tak Mau Putranya Ikut Jadi Petinju Anthony Jos...</td>\n",
       "      <td>Senin 24 Juni 2024 19:30 WIB</td>\n",
       "      <td>https://sports.okezone.com/read/2024/06/24/43/...</td>\n",
       "      <td>olahraga</td>\n",
       "      <td>tahu betapa kerasnya dunia tinju petinju asal ...</td>\n",
       "    </tr>\n",
       "    <tr>\n",
       "      <th>3</th>\n",
       "      <td>PUBG MOBILE Luncurkan Update Mecha Fusion Maki...</td>\n",
       "      <td>Senin 24 Juni 2024 17:58 WIB</td>\n",
       "      <td>https://sports.okezone.com/read/2024/06/24/43/...</td>\n",
       "      <td>olahraga</td>\n",
       "      <td>salah satu game battle royale terpopuler di du...</td>\n",
       "    </tr>\n",
       "    <tr>\n",
       "      <th>4</th>\n",
       "      <td>Kaget Lihat Banyaknya Perizinan untuk Gelar Mo...</td>\n",
       "      <td>Selasa 25 Juni 2024 00:01 WIB</td>\n",
       "      <td>https://sports.okezone.com/read/2024/06/24/38/...</td>\n",
       "      <td>olahraga</td>\n",
       "      <td>jakarta presiden republik indonesia ri joko wi...</td>\n",
       "    </tr>\n",
       "  </tbody>\n",
       "</table>\n",
       "</div>"
      ],
      "text/plain": [
       "                                               Judul  \\\n",
       "0  BawaBawa Marc Marquez Raul Fernandez Soroti Pe...   \n",
       "1  Sebelum Putuskan Bela KTM Maverick Vinales Nya...   \n",
       "2  Tak Mau Putranya Ikut Jadi Petinju Anthony Jos...   \n",
       "3  PUBG MOBILE Luncurkan Update Mecha Fusion Maki...   \n",
       "4  Kaget Lihat Banyaknya Perizinan untuk Gelar Mo...   \n",
       "\n",
       "                           Waktu  \\\n",
       "0   Senin 24 Juni 2024 18:10 WIB   \n",
       "1   Senin 24 Juni 2024 17:57 WIB   \n",
       "2   Senin 24 Juni 2024 19:30 WIB   \n",
       "3   Senin 24 Juni 2024 17:58 WIB   \n",
       "4  Selasa 25 Juni 2024 00:01 WIB   \n",
       "\n",
       "                                                 URL     Kelas  \\\n",
       "0  https://sports.okezone.com/read/2024/06/24/38/...  olahraga   \n",
       "1  https://sports.okezone.com/read/2024/06/24/38/...  olahraga   \n",
       "2  https://sports.okezone.com/read/2024/06/24/43/...  olahraga   \n",
       "3  https://sports.okezone.com/read/2024/06/24/43/...  olahraga   \n",
       "4  https://sports.okezone.com/read/2024/06/24/38/...  olahraga   \n",
       "\n",
       "                                              Konten  \n",
       "0  madrid â pembalap trackhouse racing raul fer...  \n",
       "1  pembalap tim aprilia racing maverick vinales t...  \n",
       "2  tahu betapa kerasnya dunia tinju petinju asal ...  \n",
       "3  salah satu game battle royale terpopuler di du...  \n",
       "4  jakarta presiden republik indonesia ri joko wi...  "
      ]
     },
     "execution_count": 8,
     "metadata": {},
     "output_type": "execute_result"
    }
   ],
   "source": [
    "data.head(5)"
   ]
  },
  {
   "cell_type": "code",
   "execution_count": 9,
   "id": "5a9c227d-ec6c-4466-837f-a3d151e78d78",
   "metadata": {},
   "outputs": [],
   "source": [
    "data['Konten'] = data['Konten'].str.replace('[^\\w\\s]', '')"
   ]
  },
  {
   "cell_type": "code",
   "execution_count": 10,
   "id": "5cf7012a-eeae-46ca-bed5-5c34d9a4780a",
   "metadata": {},
   "outputs": [
    {
     "data": {
      "text/plain": [
       "Kelas\n",
       "olahraga      510\n",
       "pendidikan    319\n",
       "kesehatan     289\n",
       "pariwisata    262\n",
       "Name: count, dtype: int64"
      ]
     },
     "execution_count": 10,
     "metadata": {},
     "output_type": "execute_result"
    }
   ],
   "source": [
    "data['Kelas'].value_counts()"
   ]
  },
  {
   "cell_type": "code",
   "execution_count": 11,
   "id": "60f5de3b-08eb-4dd3-9160-c2e287689065",
   "metadata": {
    "scrolled": true
   },
   "outputs": [
    {
     "data": {
      "text/plain": [
       "<Axes: xlabel='Kelas'>"
      ]
     },
     "execution_count": 11,
     "metadata": {},
     "output_type": "execute_result"
    },
    {
     "data": {
      "image/png": "[encoded data removed]",
      "text/plain": [
       "<Figure size 640x480 with 1 Axes>"
      ]
     },
     "metadata": {},
     "output_type": "display_data"
    }
   ],
   "source": [
    "result = data.groupby(['Kelas']).size()\n",
    "sns.barplot(x = result.index, y = result.values)"
   ]
  },
  {
   "cell_type": "code",
   "execution_count": 12,
   "id": "177f6130-a1b4-4d28-861c-fb583ac1e3c0",
   "metadata": {},
   "outputs": [
    {
     "data": {
      "text/plain": [
       "<Axes: xlabel='Situs'>"
      ]
     },
     "execution_count": 12,
     "metadata": {},
     "output_type": "execute_result"
    },
    {
     "data": {
      "image/png": "[encoded data removed]",
      "text/plain": [
       "<Figure size 640x480 with 1 Axes>"
      ]
     },
     "metadata": {},
     "output_type": "display_data"
    }
   ],
   "source": [
    "data['Situs'] = data['URL'].apply(lambda x: x.split('/')[2] if len(x.split('/')) == 2 else '.'.join(x.split('/')[2].split('.')[1:]))\n",
    "result = data.groupby(['Situs']).size()\n",
    "sns.barplot(x = result.index, y = result.values)"
   ]
  },
  {
   "cell_type": "code",
   "execution_count": 14,
   "id": "6fc932ce-47ef-4c64-a61e-ec3b484b3143",
   "metadata": {},
   "outputs": [],
   "source": [
    "data['Konten'] = data['Konten'].str.replace(\"[^\\w\\s]\", ' ', case=False)\n",
    "\n",
    "# Mengimpor word_tokenize dari modul nltk\n",
    "from nltk.tokenize import word_tokenize\n",
    "\n",
    "# Mengimpor RegexpTokenizer dari nltk.tokenize\n",
    "from nltk.tokenize import RegexpTokenizer\n",
    "\n",
    "# Membuat instance RegexpTokenizer untuk hanya mempertahankan kata (alphanumeric)\n",
    "regexp = RegexpTokenizer('\\w+')\n",
    "\n",
    "# Menerapkan tokenisasi pada kolom 'content'\n",
    "data['Konten_token'] = data['Konten'].apply(regexp.tokenize)"
   ]
  },
  {
   "cell_type": "code",
   "execution_count": 15,
   "id": "1f4cac40-2f43-468e-9d15-7b2d638435d4",
   "metadata": {},
   "outputs": [
    {
     "data": {
      "text/html": [
       "<div>\n",
       "<style scoped>\n",
       "    .dataframe tbody tr th:only-of-type {\n",
       "        vertical-align: middle;\n",
       "    }\n",
       "\n",
       "    .dataframe tbody tr th {\n",
       "        vertical-align: top;\n",
       "    }\n",
       "\n",
       "    .dataframe thead th {\n",
       "        text-align: right;\n",
       "    }\n",
       "</style>\n",
       "<table border=\"1\" class=\"dataframe\">\n",
       "  <thead>\n",
       "    <tr style=\"text-align: right;\">\n",
       "      <th></th>\n",
       "      <th>Judul</th>\n",
       "      <th>Waktu</th>\n",
       "      <th>URL</th>\n",
       "      <th>Kelas</th>\n",
       "      <th>Konten</th>\n",
       "      <th>Situs</th>\n",
       "      <th>Konten_token</th>\n",
       "    </tr>\n",
       "  </thead>\n",
       "  <tbody>\n",
       "    <tr>\n",
       "      <th>0</th>\n",
       "      <td>BawaBawa Marc Marquez Raul Fernandez Soroti Pe...</td>\n",
       "      <td>Senin 24 Juni 2024 18:10 WIB</td>\n",
       "      <td>https://sports.okezone.com/read/2024/06/24/38/...</td>\n",
       "      <td>olahraga</td>\n",
       "      <td>madrid â pembalap trackhouse racing raul fer...</td>\n",
       "      <td>okezone.com</td>\n",
       "      <td>[madrid, â, pembalap, trackhouse, racing, raul...</td>\n",
       "    </tr>\n",
       "    <tr>\n",
       "      <th>1</th>\n",
       "      <td>Sebelum Putuskan Bela KTM Maverick Vinales Nya...</td>\n",
       "      <td>Senin 24 Juni 2024 17:57 WIB</td>\n",
       "      <td>https://sports.okezone.com/read/2024/06/24/38/...</td>\n",
       "      <td>olahraga</td>\n",
       "      <td>pembalap tim aprilia racing maverick vinales t...</td>\n",
       "      <td>okezone.com</td>\n",
       "      <td>[pembalap, tim, aprilia, racing, maverick, vin...</td>\n",
       "    </tr>\n",
       "    <tr>\n",
       "      <th>2</th>\n",
       "      <td>Tak Mau Putranya Ikut Jadi Petinju Anthony Jos...</td>\n",
       "      <td>Senin 24 Juni 2024 19:30 WIB</td>\n",
       "      <td>https://sports.okezone.com/read/2024/06/24/43/...</td>\n",
       "      <td>olahraga</td>\n",
       "      <td>tahu betapa kerasnya dunia tinju petinju asal ...</td>\n",
       "      <td>okezone.com</td>\n",
       "      <td>[tahu, betapa, kerasnya, dunia, tinju, petinju...</td>\n",
       "    </tr>\n",
       "    <tr>\n",
       "      <th>3</th>\n",
       "      <td>PUBG MOBILE Luncurkan Update Mecha Fusion Maki...</td>\n",
       "      <td>Senin 24 Juni 2024 17:58 WIB</td>\n",
       "      <td>https://sports.okezone.com/read/2024/06/24/43/...</td>\n",
       "      <td>olahraga</td>\n",
       "      <td>salah satu game battle royale terpopuler di du...</td>\n",
       "      <td>okezone.com</td>\n",
       "      <td>[salah, satu, game, battle, royale, terpopuler...</td>\n",
       "    </tr>\n",
       "    <tr>\n",
       "      <th>4</th>\n",
       "      <td>Kaget Lihat Banyaknya Perizinan untuk Gelar Mo...</td>\n",
       "      <td>Selasa 25 Juni 2024 00:01 WIB</td>\n",
       "      <td>https://sports.okezone.com/read/2024/06/24/38/...</td>\n",
       "      <td>olahraga</td>\n",
       "      <td>jakarta presiden republik indonesia ri joko wi...</td>\n",
       "      <td>okezone.com</td>\n",
       "      <td>[jakarta, presiden, republik, indonesia, ri, j...</td>\n",
       "    </tr>\n",
       "  </tbody>\n",
       "</table>\n",
       "</div>"
      ],
      "text/plain": [
       "                                               Judul  \\\n",
       "0  BawaBawa Marc Marquez Raul Fernandez Soroti Pe...   \n",
       "1  Sebelum Putuskan Bela KTM Maverick Vinales Nya...   \n",
       "2  Tak Mau Putranya Ikut Jadi Petinju Anthony Jos...   \n",
       "3  PUBG MOBILE Luncurkan Update Mecha Fusion Maki...   \n",
       "4  Kaget Lihat Banyaknya Perizinan untuk Gelar Mo...   \n",
       "\n",
       "                           Waktu  \\\n",
       "0   Senin 24 Juni 2024 18:10 WIB   \n",
       "1   Senin 24 Juni 2024 17:57 WIB   \n",
       "2   Senin 24 Juni 2024 19:30 WIB   \n",
       "3   Senin 24 Juni 2024 17:58 WIB   \n",
       "4  Selasa 25 Juni 2024 00:01 WIB   \n",
       "\n",
       "                                                 URL     Kelas  \\\n",
       "0  https://sports.okezone.com/read/2024/06/24/38/...  olahraga   \n",
       "1  https://sports.okezone.com/read/2024/06/24/38/...  olahraga   \n",
       "2  https://sports.okezone.com/read/2024/06/24/43/...  olahraga   \n",
       "3  https://sports.okezone.com/read/2024/06/24/43/...  olahraga   \n",
       "4  https://sports.okezone.com/read/2024/06/24/38/...  olahraga   \n",
       "\n",
       "                                              Konten        Situs  \\\n",
       "0  madrid â pembalap trackhouse racing raul fer...  okezone.com   \n",
       "1  pembalap tim aprilia racing maverick vinales t...  okezone.com   \n",
       "2  tahu betapa kerasnya dunia tinju petinju asal ...  okezone.com   \n",
       "3  salah satu game battle royale terpopuler di du...  okezone.com   \n",
       "4  jakarta presiden republik indonesia ri joko wi...  okezone.com   \n",
       "\n",
       "                                        Konten_token  \n",
       "0  [madrid, â, pembalap, trackhouse, racing, raul...  \n",
       "1  [pembalap, tim, aprilia, racing, maverick, vin...  \n",
       "2  [tahu, betapa, kerasnya, dunia, tinju, petinju...  \n",
       "3  [salah, satu, game, battle, royale, terpopuler...  \n",
       "4  [jakarta, presiden, republik, indonesia, ri, j...  "
      ]
     },
     "execution_count": 15,
     "metadata": {},
     "output_type": "execute_result"
    }
   ],
   "source": [
    "data.head(5)"
   ]
  },
  {
   "cell_type": "code",
   "execution_count": 22,
   "id": "611bc6bc-50e7-4ea6-9fb4-f99fb6710c26",
   "metadata": {},
   "outputs": [
    {
     "name": "stderr",
     "output_type": "stream",
     "text": [
      "[nltk_data] Error loading stopwords: <urlopen error [Errno 111]\n",
      "[nltk_data]     Connection refused>\n"
     ]
    }
   ],
   "source": [
    "nltk.download('stopwords')\n",
    "# Make a list of Indonesian stopwords\n",
    "stopwords = stopwords.words(\"indonesian\")"
   ]
  },
  {
   "cell_type": "code",
   "execution_count": 23,
   "id": "dfa80e57-f3c5-410c-975f-7a59c95b8f6a",
   "metadata": {},
   "outputs": [],
   "source": [
    "my_stopwords = ['kompas', 'detik', 'okezone']\n",
    "stopwords.extend(my_stopwords)\n",
    "data['Konten_token'] = data['Konten_token'].apply(lambda x: [item for item in x if item not in stopwords])"
   ]
  },
  {
   "cell_type": "code",
   "execution_count": 24,
   "id": "aeb464a5-2d07-465c-9e94-cd176e4ba172",
   "metadata": {},
   "outputs": [
    {
     "data": {
      "text/html": [
       "<div>\n",
       "<style scoped>\n",
       "    .dataframe tbody tr th:only-of-type {\n",
       "        vertical-align: middle;\n",
       "    }\n",
       "\n",
       "    .dataframe tbody tr th {\n",
       "        vertical-align: top;\n",
       "    }\n",
       "\n",
       "    .dataframe thead th {\n",
       "        text-align: right;\n",
       "    }\n",
       "</style>\n",
       "<table border=\"1\" class=\"dataframe\">\n",
       "  <thead>\n",
       "    <tr style=\"text-align: right;\">\n",
       "      <th></th>\n",
       "      <th>Judul</th>\n",
       "      <th>Waktu</th>\n",
       "      <th>URL</th>\n",
       "      <th>Kelas</th>\n",
       "      <th>Konten</th>\n",
       "      <th>Situs</th>\n",
       "      <th>Konten_token</th>\n",
       "    </tr>\n",
       "  </thead>\n",
       "  <tbody>\n",
       "    <tr>\n",
       "      <th>0</th>\n",
       "      <td>BawaBawa Marc Marquez Raul Fernandez Soroti Pe...</td>\n",
       "      <td>Senin 24 Juni 2024 18:10 WIB</td>\n",
       "      <td>https://sports.okezone.com/read/2024/06/24/38/...</td>\n",
       "      <td>olahraga</td>\n",
       "      <td>madrid â pembalap trackhouse racing raul fer...</td>\n",
       "      <td>okezone.com</td>\n",
       "      <td>[madrid, â, pembalap, trackhouse, racing, raul...</td>\n",
       "    </tr>\n",
       "    <tr>\n",
       "      <th>1</th>\n",
       "      <td>Sebelum Putuskan Bela KTM Maverick Vinales Nya...</td>\n",
       "      <td>Senin 24 Juni 2024 17:57 WIB</td>\n",
       "      <td>https://sports.okezone.com/read/2024/06/24/38/...</td>\n",
       "      <td>olahraga</td>\n",
       "      <td>pembalap tim aprilia racing maverick vinales t...</td>\n",
       "      <td>okezone.com</td>\n",
       "      <td>[pembalap, tim, aprilia, racing, maverick, vin...</td>\n",
       "    </tr>\n",
       "    <tr>\n",
       "      <th>2</th>\n",
       "      <td>Tak Mau Putranya Ikut Jadi Petinju Anthony Jos...</td>\n",
       "      <td>Senin 24 Juni 2024 19:30 WIB</td>\n",
       "      <td>https://sports.okezone.com/read/2024/06/24/43/...</td>\n",
       "      <td>olahraga</td>\n",
       "      <td>tahu betapa kerasnya dunia tinju petinju asal ...</td>\n",
       "      <td>okezone.com</td>\n",
       "      <td>[betapa, kerasnya, dunia, tinju, petinju, ingg...</td>\n",
       "    </tr>\n",
       "    <tr>\n",
       "      <th>3</th>\n",
       "      <td>PUBG MOBILE Luncurkan Update Mecha Fusion Maki...</td>\n",
       "      <td>Senin 24 Juni 2024 17:58 WIB</td>\n",
       "      <td>https://sports.okezone.com/read/2024/06/24/43/...</td>\n",
       "      <td>olahraga</td>\n",
       "      <td>salah satu game battle royale terpopuler di du...</td>\n",
       "      <td>okezone.com</td>\n",
       "      <td>[salah, game, battle, royale, terpopuler, duni...</td>\n",
       "    </tr>\n",
       "    <tr>\n",
       "      <th>4</th>\n",
       "      <td>Kaget Lihat Banyaknya Perizinan untuk Gelar Mo...</td>\n",
       "      <td>Selasa 25 Juni 2024 00:01 WIB</td>\n",
       "      <td>https://sports.okezone.com/read/2024/06/24/38/...</td>\n",
       "      <td>olahraga</td>\n",
       "      <td>jakarta presiden republik indonesia ri joko wi...</td>\n",
       "      <td>okezone.com</td>\n",
       "      <td>[jakarta, presiden, republik, indonesia, ri, j...</td>\n",
       "    </tr>\n",
       "  </tbody>\n",
       "</table>\n",
       "</div>"
      ],
      "text/plain": [
       "                                               Judul  \\\n",
       "0  BawaBawa Marc Marquez Raul Fernandez Soroti Pe...   \n",
       "1  Sebelum Putuskan Bela KTM Maverick Vinales Nya...   \n",
       "2  Tak Mau Putranya Ikut Jadi Petinju Anthony Jos...   \n",
       "3  PUBG MOBILE Luncurkan Update Mecha Fusion Maki...   \n",
       "4  Kaget Lihat Banyaknya Perizinan untuk Gelar Mo...   \n",
       "\n",
       "                           Waktu  \\\n",
       "0   Senin 24 Juni 2024 18:10 WIB   \n",
       "1   Senin 24 Juni 2024 17:57 WIB   \n",
       "2   Senin 24 Juni 2024 19:30 WIB   \n",
       "3   Senin 24 Juni 2024 17:58 WIB   \n",
       "4  Selasa 25 Juni 2024 00:01 WIB   \n",
       "\n",
       "                                                 URL     Kelas  \\\n",
       "0  https://sports.okezone.com/read/2024/06/24/38/...  olahraga   \n",
       "1  https://sports.okezone.com/read/2024/06/24/38/...  olahraga   \n",
       "2  https://sports.okezone.com/read/2024/06/24/43/...  olahraga   \n",
       "3  https://sports.okezone.com/read/2024/06/24/43/...  olahraga   \n",
       "4  https://sports.okezone.com/read/2024/06/24/38/...  olahraga   \n",
       "\n",
       "                                              Konten        Situs  \\\n",
       "0  madrid â pembalap trackhouse racing raul fer...  okezone.com   \n",
       "1  pembalap tim aprilia racing maverick vinales t...  okezone.com   \n",
       "2  tahu betapa kerasnya dunia tinju petinju asal ...  okezone.com   \n",
       "3  salah satu game battle royale terpopuler di du...  okezone.com   \n",
       "4  jakarta presiden republik indonesia ri joko wi...  okezone.com   \n",
       "\n",
       "                                        Konten_token  \n",
       "0  [madrid, â, pembalap, trackhouse, racing, raul...  \n",
       "1  [pembalap, tim, aprilia, racing, maverick, vin...  \n",
       "2  [betapa, kerasnya, dunia, tinju, petinju, ingg...  \n",
       "3  [salah, game, battle, royale, terpopuler, duni...  \n",
       "4  [jakarta, presiden, republik, indonesia, ri, j...  "
      ]
     },
     "execution_count": 24,
     "metadata": {},
     "output_type": "execute_result"
    }
   ],
   "source": [
    "data.head(5)"
   ]
  },
  {
   "cell_type": "code",
   "execution_count": 3,
   "id": "97e2546e-9233-40cb-bccb-73bee00eb7c7",
   "metadata": {},
   "outputs": [
    {
     "ename": "NameError",
     "evalue": "name 'StemmerFactory' is not defined",
     "output_type": "error",
     "traceback": [
      "\u001b[0;31m---------------------------------------------------------------------------\u001b[0m",
      "\u001b[0;31mNameError\u001b[0m                                 Traceback (most recent call last)",
      "Cell \u001b[0;32mIn[3], line 1\u001b[0m\n\u001b[0;32m----> 1\u001b[0m factory \u001b[38;5;241m=\u001b[39m StemmerFactory()\n\u001b[1;32m      2\u001b[0m stemmer \u001b[38;5;241m=\u001b[39m factory\u001b[38;5;241m.\u001b[39mcreate_stemmer()\n\u001b[1;32m      3\u001b[0m data[\u001b[38;5;124m'\u001b[39m\u001b[38;5;124mKonten_token\u001b[39m\u001b[38;5;124m'\u001b[39m] \u001b[38;5;241m=\u001b[39m data[\u001b[38;5;124m'\u001b[39m\u001b[38;5;124mKonten_token\u001b[39m\u001b[38;5;124m'\u001b[39m]\u001b[38;5;241m.\u001b[39mapply(\u001b[38;5;28;01mlambda\u001b[39;00m x: [stemmer\u001b[38;5;241m.\u001b[39mstem(y) \u001b[38;5;28;01mfor\u001b[39;00m y \u001b[38;5;129;01min\u001b[39;00m x]) \u001b[38;5;66;03m# Stem every word.\u001b[39;00m\n",
      "\u001b[0;31mNameError\u001b[0m: name 'StemmerFactory' is not defined"
     ]
    }
   ],
   "source": [
    "factory = StemmerFactory()\n",
    "stemmer = factory.create_stemmer()\n",
    "data['Konten_token'] = data['Konten_token'].apply(lambda x: [stemmer.stem(y) for y in x]) # Stem every word.\n",
    "data.head(5)"
   ]
  },
  {
   "cell_type": "code",
   "execution_count": 6,
   "id": "9f942b94-aadf-41f3-8e89-50bdf44cd755",
   "metadata": {},
   "outputs": [
    {
     "data": {
      "text/plain": [
       "['ini', 'milik', 'pudar']"
      ]
     },
     "execution_count": 6,
     "metadata": {},
     "output_type": "execute_result"
    }
   ],
   "source": [
    "factory = StemmerFactory()\n",
    "stemmer = factory.create_stemmer()\n",
    "a = ['ini', 'memiliki', 'memudar']\n",
    "b = []\n",
    "for i in a:\n",
    "    b.append(stemmer.stem(i))"
   ]
  }
 ],
 "metadata": {
  "kernelspec": {
   "display_name": "Python 3 (ipykernel)",
   "language": "python",
   "name": "python3"
  },
  "language_info": {
   "codemirror_mode": {
    "name": "ipython",
    "version": 3
   },
   "file_extension": ".py",
   "mimetype": "text/x-python",
   "name": "python",
   "nbconvert_exporter": "python",
   "pygments_lexer": "ipython3",
   "version": "3.11.9"
  }
 },
 "nbformat": 4,
 "nbformat_minor": 5
}
